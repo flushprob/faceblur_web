{
 "cells": [
  {
   "cell_type": "code",
   "execution_count": 3,
   "id": "859cce3a",
   "metadata": {},
   "outputs": [],
   "source": [
    "import PIL\n",
    "import streamlit as st\n",
    "import numpy as np\n",
    "import cv2\n",
    "import os\n",
    "from os.path import dirname, join\n",
    "from pathlib import Path\n",
    "from PIL import Image, ImageFilter, ImageEnhance\n",
    "from facial_landmarks import FaceLandmarks\n",
    "import mediapipe as mp\n",
    "import dlib"
   ]
  },
  {
   "cell_type": "code",
   "execution_count": 4,
   "id": "df8137d8",
   "metadata": {},
   "outputs": [],
   "source": [
    "face_detector = dlib.get_frontal_face_detector()\n",
    "landmark_detector = dlib.shape_predictor(\"_blur_data/shape_predictor_68_face_landmarks.dat\")"
   ]
  },
  {
   "cell_type": "code",
   "execution_count": 5,
   "id": "c8934258",
   "metadata": {},
   "outputs": [],
   "source": [
    "img_path = \"img_data/many.jpg\" #read with dlib img = dlib.load_rgb_image(img_path) #read with opencv #img = cv2.imread(img_path)[:,:,::-1]\n",
    "img = dlib.load_rgb_image(img_path)\n",
    "faces = face_detector(img, 1)"
   ]
  },
  {
   "cell_type": "code",
   "execution_count": null,
   "id": "e5626038",
   "metadata": {},
   "outputs": [],
   "source": []
  }
 ],
 "metadata": {
  "kernelspec": {
   "display_name": "Python 3 (ipykernel)",
   "language": "python",
   "name": "python3"
  },
  "language_info": {
   "codemirror_mode": {
    "name": "ipython",
    "version": 3
   },
   "file_extension": ".py",
   "mimetype": "text/x-python",
   "name": "python",
   "nbconvert_exporter": "python",
   "pygments_lexer": "ipython3",
   "version": "3.9.7"
  }
 },
 "nbformat": 4,
 "nbformat_minor": 5
}
